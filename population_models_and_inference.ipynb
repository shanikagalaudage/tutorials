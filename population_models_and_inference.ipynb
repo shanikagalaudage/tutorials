{
  "nbformat": 4,
  "nbformat_minor": 0,
  "metadata": {
    "colab": {
      "name": "population_models_and_inference.ipynb",
      "provenance": [],
      "collapsed_sections": [
        "jP7Sw7lG2v2C"
      ],
      "authorship_tag": "ABX9TyPubMa4RJcW/FWv3/rFGJo5",
      "include_colab_link": true
    },
    "kernelspec": {
      "name": "python3",
      "display_name": "Python 3"
    },
    "language_info": {
      "name": "python"
    },
    "widgets": {
      "application/vnd.jupyter.widget-state+json": {
        "d50350a9e15343ab82ab95de6df073fe": {
          "model_module": "@jupyter-widgets/controls",
          "model_name": "HBoxModel",
          "model_module_version": "1.5.0",
          "state": {
            "_dom_classes": [],
            "_model_module": "@jupyter-widgets/controls",
            "_model_module_version": "1.5.0",
            "_model_name": "HBoxModel",
            "_view_count": null,
            "_view_module": "@jupyter-widgets/controls",
            "_view_module_version": "1.5.0",
            "_view_name": "HBoxView",
            "box_style": "",
            "children": [
              "IPY_MODEL_2e919bdd4a3e432382257077c46b977c",
              "IPY_MODEL_6d5b7accbaee44898e4f93fa2d1c943b",
              "IPY_MODEL_d5c7ea1b822746398baec0829d810cfe"
            ],
            "layout": "IPY_MODEL_3b53a3cd22c44654951136899b745465"
          }
        },
        "2e919bdd4a3e432382257077c46b977c": {
          "model_module": "@jupyter-widgets/controls",
          "model_name": "HTMLModel",
          "model_module_version": "1.5.0",
          "state": {
            "_dom_classes": [],
            "_model_module": "@jupyter-widgets/controls",
            "_model_module_version": "1.5.0",
            "_model_name": "HTMLModel",
            "_view_count": null,
            "_view_module": "@jupyter-widgets/controls",
            "_view_module_version": "1.5.0",
            "_view_name": "HTMLView",
            "description": "",
            "description_tooltip": null,
            "layout": "IPY_MODEL_b92f67c9caf949cc86ea3909f636f2c9",
            "placeholder": "​",
            "style": "IPY_MODEL_b6134ff6d75f4797850089e67f474983",
            "value": ""
          }
        },
        "6d5b7accbaee44898e4f93fa2d1c943b": {
          "model_module": "@jupyter-widgets/controls",
          "model_name": "FloatProgressModel",
          "model_module_version": "1.5.0",
          "state": {
            "_dom_classes": [],
            "_model_module": "@jupyter-widgets/controls",
            "_model_module_version": "1.5.0",
            "_model_name": "FloatProgressModel",
            "_view_count": null,
            "_view_module": "@jupyter-widgets/controls",
            "_view_module_version": "1.5.0",
            "_view_name": "ProgressView",
            "bar_style": "success",
            "description": "",
            "description_tooltip": null,
            "layout": "IPY_MODEL_76e7200f3b424688992eb895a076873f",
            "max": 1,
            "min": 0,
            "orientation": "horizontal",
            "style": "IPY_MODEL_efc96460d33b4510b20534abb58d9b9c",
            "value": 1
          }
        },
        "d5c7ea1b822746398baec0829d810cfe": {
          "model_module": "@jupyter-widgets/controls",
          "model_name": "HTMLModel",
          "model_module_version": "1.5.0",
          "state": {
            "_dom_classes": [],
            "_model_module": "@jupyter-widgets/controls",
            "_model_module_version": "1.5.0",
            "_model_name": "HTMLModel",
            "_view_count": null,
            "_view_module": "@jupyter-widgets/controls",
            "_view_module_version": "1.5.0",
            "_view_name": "HTMLView",
            "description": "",
            "description_tooltip": null,
            "layout": "IPY_MODEL_162f686f30f5478a953b9b119b826e50",
            "placeholder": "​",
            "style": "IPY_MODEL_3da0a0c2cb1f462ea9aef52a71a50d0b",
            "value": " 592/? [00:28&lt;00:00, 23.25it/s, bound:42 nc:  1 ncall:6.8e+03 eff:10.2% logz-ratio=-279.85+/-0.22 dlogz:0.001&gt;0.1]"
          }
        },
        "3b53a3cd22c44654951136899b745465": {
          "model_module": "@jupyter-widgets/base",
          "model_name": "LayoutModel",
          "model_module_version": "1.2.0",
          "state": {
            "_model_module": "@jupyter-widgets/base",
            "_model_module_version": "1.2.0",
            "_model_name": "LayoutModel",
            "_view_count": null,
            "_view_module": "@jupyter-widgets/base",
            "_view_module_version": "1.2.0",
            "_view_name": "LayoutView",
            "align_content": null,
            "align_items": null,
            "align_self": null,
            "border": null,
            "bottom": null,
            "display": null,
            "flex": null,
            "flex_flow": null,
            "grid_area": null,
            "grid_auto_columns": null,
            "grid_auto_flow": null,
            "grid_auto_rows": null,
            "grid_column": null,
            "grid_gap": null,
            "grid_row": null,
            "grid_template_areas": null,
            "grid_template_columns": null,
            "grid_template_rows": null,
            "height": null,
            "justify_content": null,
            "justify_items": null,
            "left": null,
            "margin": null,
            "max_height": null,
            "max_width": null,
            "min_height": null,
            "min_width": null,
            "object_fit": null,
            "object_position": null,
            "order": null,
            "overflow": null,
            "overflow_x": null,
            "overflow_y": null,
            "padding": null,
            "right": null,
            "top": null,
            "visibility": null,
            "width": null
          }
        },
        "b92f67c9caf949cc86ea3909f636f2c9": {
          "model_module": "@jupyter-widgets/base",
          "model_name": "LayoutModel",
          "model_module_version": "1.2.0",
          "state": {
            "_model_module": "@jupyter-widgets/base",
            "_model_module_version": "1.2.0",
            "_model_name": "LayoutModel",
            "_view_count": null,
            "_view_module": "@jupyter-widgets/base",
            "_view_module_version": "1.2.0",
            "_view_name": "LayoutView",
            "align_content": null,
            "align_items": null,
            "align_self": null,
            "border": null,
            "bottom": null,
            "display": null,
            "flex": null,
            "flex_flow": null,
            "grid_area": null,
            "grid_auto_columns": null,
            "grid_auto_flow": null,
            "grid_auto_rows": null,
            "grid_column": null,
            "grid_gap": null,
            "grid_row": null,
            "grid_template_areas": null,
            "grid_template_columns": null,
            "grid_template_rows": null,
            "height": null,
            "justify_content": null,
            "justify_items": null,
            "left": null,
            "margin": null,
            "max_height": null,
            "max_width": null,
            "min_height": null,
            "min_width": null,
            "object_fit": null,
            "object_position": null,
            "order": null,
            "overflow": null,
            "overflow_x": null,
            "overflow_y": null,
            "padding": null,
            "right": null,
            "top": null,
            "visibility": null,
            "width": null
          }
        },
        "b6134ff6d75f4797850089e67f474983": {
          "model_module": "@jupyter-widgets/controls",
          "model_name": "DescriptionStyleModel",
          "model_module_version": "1.5.0",
          "state": {
            "_model_module": "@jupyter-widgets/controls",
            "_model_module_version": "1.5.0",
            "_model_name": "DescriptionStyleModel",
            "_view_count": null,
            "_view_module": "@jupyter-widgets/base",
            "_view_module_version": "1.2.0",
            "_view_name": "StyleView",
            "description_width": ""
          }
        },
        "76e7200f3b424688992eb895a076873f": {
          "model_module": "@jupyter-widgets/base",
          "model_name": "LayoutModel",
          "model_module_version": "1.2.0",
          "state": {
            "_model_module": "@jupyter-widgets/base",
            "_model_module_version": "1.2.0",
            "_model_name": "LayoutModel",
            "_view_count": null,
            "_view_module": "@jupyter-widgets/base",
            "_view_module_version": "1.2.0",
            "_view_name": "LayoutView",
            "align_content": null,
            "align_items": null,
            "align_self": null,
            "border": null,
            "bottom": null,
            "display": null,
            "flex": null,
            "flex_flow": null,
            "grid_area": null,
            "grid_auto_columns": null,
            "grid_auto_flow": null,
            "grid_auto_rows": null,
            "grid_column": null,
            "grid_gap": null,
            "grid_row": null,
            "grid_template_areas": null,
            "grid_template_columns": null,
            "grid_template_rows": null,
            "height": null,
            "justify_content": null,
            "justify_items": null,
            "left": null,
            "margin": null,
            "max_height": null,
            "max_width": null,
            "min_height": null,
            "min_width": null,
            "object_fit": null,
            "object_position": null,
            "order": null,
            "overflow": null,
            "overflow_x": null,
            "overflow_y": null,
            "padding": null,
            "right": null,
            "top": null,
            "visibility": null,
            "width": "20px"
          }
        },
        "efc96460d33b4510b20534abb58d9b9c": {
          "model_module": "@jupyter-widgets/controls",
          "model_name": "ProgressStyleModel",
          "model_module_version": "1.5.0",
          "state": {
            "_model_module": "@jupyter-widgets/controls",
            "_model_module_version": "1.5.0",
            "_model_name": "ProgressStyleModel",
            "_view_count": null,
            "_view_module": "@jupyter-widgets/base",
            "_view_module_version": "1.2.0",
            "_view_name": "StyleView",
            "bar_color": null,
            "description_width": ""
          }
        },
        "162f686f30f5478a953b9b119b826e50": {
          "model_module": "@jupyter-widgets/base",
          "model_name": "LayoutModel",
          "model_module_version": "1.2.0",
          "state": {
            "_model_module": "@jupyter-widgets/base",
            "_model_module_version": "1.2.0",
            "_model_name": "LayoutModel",
            "_view_count": null,
            "_view_module": "@jupyter-widgets/base",
            "_view_module_version": "1.2.0",
            "_view_name": "LayoutView",
            "align_content": null,
            "align_items": null,
            "align_self": null,
            "border": null,
            "bottom": null,
            "display": null,
            "flex": null,
            "flex_flow": null,
            "grid_area": null,
            "grid_auto_columns": null,
            "grid_auto_flow": null,
            "grid_auto_rows": null,
            "grid_column": null,
            "grid_gap": null,
            "grid_row": null,
            "grid_template_areas": null,
            "grid_template_columns": null,
            "grid_template_rows": null,
            "height": null,
            "justify_content": null,
            "justify_items": null,
            "left": null,
            "margin": null,
            "max_height": null,
            "max_width": null,
            "min_height": null,
            "min_width": null,
            "object_fit": null,
            "object_position": null,
            "order": null,
            "overflow": null,
            "overflow_x": null,
            "overflow_y": null,
            "padding": null,
            "right": null,
            "top": null,
            "visibility": null,
            "width": null
          }
        },
        "3da0a0c2cb1f462ea9aef52a71a50d0b": {
          "model_module": "@jupyter-widgets/controls",
          "model_name": "DescriptionStyleModel",
          "model_module_version": "1.5.0",
          "state": {
            "_model_module": "@jupyter-widgets/controls",
            "_model_module_version": "1.5.0",
            "_model_name": "DescriptionStyleModel",
            "_view_count": null,
            "_view_module": "@jupyter-widgets/base",
            "_view_module_version": "1.2.0",
            "_view_name": "StyleView",
            "description_width": ""
          }
        }
      }
    }
  },
  "cells": [
    {
      "cell_type": "markdown",
      "metadata": {
        "id": "view-in-github",
        "colab_type": "text"
      },
      "source": [
        "<a href=\"https://colab.research.google.com/github/shanikagalaudage/tutorials_resources/blob/main/population_models_and_inference.ipynb\" target=\"_parent\"><img src=\"https://colab.research.google.com/assets/colab-badge.svg\" alt=\"Open In Colab\"/></a>"
      ]
    },
    {
      "cell_type": "markdown",
      "source": [
        "## **Getting started**\n",
        "Let's install some stuff first for plotting and parameter estimation"
      ],
      "metadata": {
        "id": "jP7Sw7lG2v2C"
      }
    },
    {
      "cell_type": "code",
      "execution_count": 1,
      "metadata": {
        "colab": {
          "base_uri": "https://localhost:8080/"
        },
        "id": "td-ydTC92sJC",
        "outputId": "2de34302-1508-4ed2-beeb-e7acc21d262e"
      },
      "outputs": [
        {
          "output_type": "stream",
          "name": "stdout",
          "text": [
            "Looking in indexes: https://pypi.org/simple, https://us-python.pkg.dev/colab-wheels/public/simple/\n",
            "Collecting gwpopulation\n",
            "  Downloading gwpopulation-0.6.3.tar.gz (18 kB)\n",
            "Requirement already satisfied: future in /usr/local/lib/python3.7/dist-packages (from gwpopulation) (0.16.0)\n",
            "Requirement already satisfied: numpy in /usr/local/lib/python3.7/dist-packages (from gwpopulation) (1.21.6)\n",
            "Requirement already satisfied: scipy in /usr/local/lib/python3.7/dist-packages (from gwpopulation) (1.7.3)\n",
            "Requirement already satisfied: astropy in /usr/local/lib/python3.7/dist-packages (from gwpopulation) (4.3.1)\n",
            "Collecting bilby\n",
            "  Downloading bilby-1.1.5.tar.gz (2.2 MB)\n",
            "\u001b[K     |████████████████████████████████| 2.2 MB 6.8 MB/s \n",
            "\u001b[?25hRequirement already satisfied: importlib-metadata in /usr/local/lib/python3.7/dist-packages (from astropy->gwpopulation) (4.12.0)\n",
            "Requirement already satisfied: pyerfa>=1.7.3 in /usr/local/lib/python3.7/dist-packages (from astropy->gwpopulation) (2.0.0.1)\n",
            "Collecting dynesty<1.1\n",
            "  Downloading dynesty-1.0.1-py2.py3-none-any.whl (86 kB)\n",
            "\u001b[K     |████████████████████████████████| 86 kB 6.5 MB/s \n",
            "\u001b[?25hCollecting emcee\n",
            "  Downloading emcee-3.1.2-py2.py3-none-any.whl (46 kB)\n",
            "\u001b[K     |████████████████████████████████| 46 kB 4.9 MB/s \n",
            "\u001b[?25hCollecting corner\n",
            "  Downloading corner-2.2.1-py3-none-any.whl (15 kB)\n",
            "Requirement already satisfied: matplotlib>=2.1 in /usr/local/lib/python3.7/dist-packages (from bilby->gwpopulation) (3.2.2)\n",
            "Requirement already satisfied: pandas in /usr/local/lib/python3.7/dist-packages (from bilby->gwpopulation) (1.3.5)\n",
            "Collecting mock\n",
            "  Downloading mock-4.0.3-py3-none-any.whl (28 kB)\n",
            "Requirement already satisfied: dill in /usr/local/lib/python3.7/dist-packages (from bilby->gwpopulation) (0.3.5.1)\n",
            "Requirement already satisfied: tqdm in /usr/local/lib/python3.7/dist-packages (from bilby->gwpopulation) (4.64.0)\n",
            "Requirement already satisfied: h5py in /usr/local/lib/python3.7/dist-packages (from bilby->gwpopulation) (3.1.0)\n",
            "Requirement already satisfied: tables in /usr/local/lib/python3.7/dist-packages (from bilby->gwpopulation) (3.7.0)\n",
            "Requirement already satisfied: attrs in /usr/local/lib/python3.7/dist-packages (from bilby->gwpopulation) (21.4.0)\n",
            "Requirement already satisfied: six in /usr/local/lib/python3.7/dist-packages (from dynesty<1.1->bilby->gwpopulation) (1.15.0)\n",
            "Requirement already satisfied: cycler>=0.10 in /usr/local/lib/python3.7/dist-packages (from matplotlib>=2.1->bilby->gwpopulation) (0.11.0)\n",
            "Requirement already satisfied: kiwisolver>=1.0.1 in /usr/local/lib/python3.7/dist-packages (from matplotlib>=2.1->bilby->gwpopulation) (1.4.4)\n",
            "Requirement already satisfied: pyparsing!=2.0.4,!=2.1.2,!=2.1.6,>=2.0.1 in /usr/local/lib/python3.7/dist-packages (from matplotlib>=2.1->bilby->gwpopulation) (3.0.9)\n",
            "Requirement already satisfied: python-dateutil>=2.1 in /usr/local/lib/python3.7/dist-packages (from matplotlib>=2.1->bilby->gwpopulation) (2.8.2)\n",
            "Requirement already satisfied: typing-extensions in /usr/local/lib/python3.7/dist-packages (from kiwisolver>=1.0.1->matplotlib>=2.1->bilby->gwpopulation) (4.1.1)\n",
            "Requirement already satisfied: cached-property in /usr/local/lib/python3.7/dist-packages (from h5py->bilby->gwpopulation) (1.5.2)\n",
            "Requirement already satisfied: zipp>=0.5 in /usr/local/lib/python3.7/dist-packages (from importlib-metadata->astropy->gwpopulation) (3.8.1)\n",
            "Requirement already satisfied: pytz>=2017.3 in /usr/local/lib/python3.7/dist-packages (from pandas->bilby->gwpopulation) (2022.1)\n",
            "Requirement already satisfied: packaging in /usr/local/lib/python3.7/dist-packages (from tables->bilby->gwpopulation) (21.3)\n",
            "Requirement already satisfied: numexpr>=2.6.2 in /usr/local/lib/python3.7/dist-packages (from tables->bilby->gwpopulation) (2.8.3)\n",
            "Building wheels for collected packages: gwpopulation, bilby\n",
            "  Building wheel for gwpopulation (setup.py) ... \u001b[?25l\u001b[?25hdone\n",
            "  Created wheel for gwpopulation: filename=gwpopulation-0.6.3-py3-none-any.whl size=20680 sha256=7a8fcf75170910fd7606a3e14bf75d26f26ff02037f2d90aed171ccd7d9f5d66\n",
            "  Stored in directory: /root/.cache/pip/wheels/ff/92/9b/ca6c3148c2355ab7b6de2468d6ab3090ba1dc71d52eaa46294\n",
            "  Building wheel for bilby (setup.py) ... \u001b[?25l\u001b[?25hdone\n",
            "  Created wheel for bilby: filename=bilby-1.1.5-py3-none-any.whl size=2250290 sha256=ac4843790e707a129ac5a971af9b2530785cc1a6e27e623eb5fde9d126222219\n",
            "  Stored in directory: /root/.cache/pip/wheels/d9/4b/7f/9b616adfbe3e613bf0abe6c320a9b5bc988e411201c12eca19\n",
            "Successfully built gwpopulation bilby\n",
            "Installing collected packages: mock, emcee, dynesty, corner, bilby, gwpopulation\n",
            "Successfully installed bilby-1.1.5 corner-2.2.1 dynesty-1.0.1 emcee-3.1.2 gwpopulation-0.6.3 mock-4.0.3\n"
          ]
        }
      ],
      "source": [
        "!pip install gwpopulation"
      ]
    },
    {
      "cell_type": "code",
      "source": [
        "! pip install deepdish"
      ],
      "metadata": {
        "colab": {
          "base_uri": "https://localhost:8080/"
        },
        "id": "YlN3T6yZgsJ-",
        "outputId": "c62463af-c19f-4edd-ad33-cf30a97c5600"
      },
      "execution_count": 2,
      "outputs": [
        {
          "output_type": "stream",
          "name": "stdout",
          "text": [
            "Looking in indexes: https://pypi.org/simple, https://us-python.pkg.dev/colab-wheels/public/simple/\n",
            "Collecting deepdish\n",
            "  Downloading deepdish-0.3.7-py2.py3-none-any.whl (37 kB)\n",
            "Requirement already satisfied: scipy in /usr/local/lib/python3.7/dist-packages (from deepdish) (1.7.3)\n",
            "Requirement already satisfied: numpy in /usr/local/lib/python3.7/dist-packages (from deepdish) (1.21.6)\n",
            "Requirement already satisfied: tables in /usr/local/lib/python3.7/dist-packages (from deepdish) (3.7.0)\n",
            "Requirement already satisfied: packaging in /usr/local/lib/python3.7/dist-packages (from tables->deepdish) (21.3)\n",
            "Requirement already satisfied: numexpr>=2.6.2 in /usr/local/lib/python3.7/dist-packages (from tables->deepdish) (2.8.3)\n",
            "Requirement already satisfied: pyparsing!=3.0.5,>=2.0.2 in /usr/local/lib/python3.7/dist-packages (from packaging->tables->deepdish) (3.0.9)\n",
            "Installing collected packages: deepdish\n",
            "Successfully installed deepdish-0.3.7\n"
          ]
        }
      ]
    },
    {
      "cell_type": "code",
      "source": [
        "# import stuff\n",
        "from importlib import import_module\n",
        "import inspect\n",
        "import numpy as np\n",
        "import pandas as pd\n",
        "import deepdish as dd\n",
        "from scipy import special\n",
        "from bilby import run_sampler\n",
        "import gwpopulation\n",
        "import bilby\n",
        "from bilby.core.prior import PriorDict, Uniform, LogUniform, PowerLaw, Interped\n",
        "from bilby.hyper.model import Model\n",
        "import matplotlib.pyplot as plt\n",
        "from matplotlib import rcParams\n",
        "\n",
        "# formatting for figures\n",
        "rcParams[\"text.usetex\"] = False\n",
        "rcParams[\"font.serif\"] = \"Computer Modern\"\n",
        "rcParams[\"font.family\"] = \"DejaVu Sans\"\n",
        "\n",
        "rcParams[\"legend.fontsize\"]=14\n",
        "rcParams[\"legend.framealpha\"]=0.5\n",
        "rcParams[\"legend.frameon\"]=True\n",
        "rcParams[\"legend.edgecolor\"]=\"white\"\n",
        "rcParams[\"axes.labelsize\"]=14\n",
        "rcParams[\"axes.grid\"] = True\n",
        "rcParams[\"grid.color\"] = \"black\"\n",
        "rcParams[\"grid.linewidth\"] = 1\n",
        "rcParams[\"grid.linestyle\"] = \"--\"\n",
        "rcParams[\"grid.alpha\"] = 0.3\n",
        "\n",
        "rcParams[\"xtick.labelsize\"]=16\n",
        "rcParams[\"ytick.labelsize\"]=16\n",
        "rcParams[\"legend.fontsize\"]=16\n",
        "rcParams[\"axes.labelsize\"]=18\n",
        "rcParams[\"axes.titlesize\"]=18"
      ],
      "metadata": {
        "id": "vk-PVNae3Dk-"
      },
      "execution_count": 3,
      "outputs": []
    },
    {
      "cell_type": "markdown",
      "source": [
        "## **Let's talk about populations**\n",
        "\n",
        "First things first, let's define our population model."
      ],
      "metadata": {
        "id": "SpMVd0-c3ElR"
      }
    },
    {
      "cell_type": "code",
      "source": [
        "# define a hyper prior (i.e priors for our hyper parameters)\n",
        "\n",
        "hyper_prior = PriorDict()\n",
        "hyper_prior['mu'] = Uniform(minimum=20, maximum=50, name='mu1', latex_label='$\\\\mu_{1}$')\n",
        "hyper_prior['sig'] = Uniform(minimum=1, maximum=10, name='sig1', latex_label='$\\\\sigma_{1}$')\n",
        "hyper_prior['mmin'] = 3\n",
        "hyper_prior['mmax'] = 100\n",
        "hyper_prior['lamb'] = 0"
      ],
      "metadata": {
        "id": "VikdJTOF4yWo"
      },
      "execution_count": 4,
      "outputs": []
    },
    {
      "cell_type": "code",
      "source": [
        "# define a population model\n",
        "\n",
        "def truncated_gaussian(xx, mu, sigma, high, low):\n",
        "    norm = 2 ** 0.5 / np.pi ** 0.5 / sigma\n",
        "    norm /= special.erf((high - mu) / 2 ** 0.5 / sigma) + special.erf((mu - low) / 2 ** 0.5 / sigma)\n",
        "    prob = np.exp(-np.power(xx - mu, 2) / (2 * sigma ** 2))\n",
        "    prob *= norm\n",
        "    prob *= (xx <= high) & (xx >= low)\n",
        "    return prob\n",
        "\n",
        "def single_gaussian(dataset, mmin, mmax, mu, sig):\n",
        "    prob = truncated_gaussian(dataset[\"mass_1\"], mu=mu, sigma=sig, low=mmin, high=mmax)\n",
        "    return prob"
      ],
      "metadata": {
        "id": "TDD13LXq4_yT"
      },
      "execution_count": 5,
      "outputs": []
    },
    {
      "cell_type": "code",
      "source": [
        "# read in GWTC-1 posteriors\n",
        "posteriors = pd.read_pickle(\"./posteriors_gwtc1.pkl\")"
      ],
      "metadata": {
        "id": "QXVBOCuO4_7a"
      },
      "execution_count": 6,
      "outputs": []
    },
    {
      "cell_type": "markdown",
      "source": [
        "So the following functions look a little bit intense, but you can ignore them for the time being (if you have questions, please ask!). Essentially all they are doing is calculating the selection effects which gives a $1/p_\\mathrm{det}$ factor to the likelihood where $p_\\mathrm{det}$ is the probability of detection."
      ],
      "metadata": {
        "id": "xjrCpswlf3B9"
      }
    },
    {
      "cell_type": "code",
      "source": [
        "# Set selection function\n",
        "\n",
        "N_EVENTS = len(posteriors)\n",
        "max_redshift = 2.3\n",
        "\n",
        "class ResamplingVT(object):\n",
        "    def __init__(self, model, data):\n",
        "        self.data = data\n",
        "        if isinstance(model, list):\n",
        "            model = Model(model)\n",
        "        elif not isinstance(model, Model):\n",
        "            model = Model([model])\n",
        "        self.model = model\n",
        "        self.redshift_model = None\n",
        "        for _model in self.model.models:\n",
        "            if isinstance(_model, gwpopulation.models.redshift._Redshift):\n",
        "                self.redshift_model = _model\n",
        "        if self.redshift_model is None:\n",
        "            self._surveyed_hypervolume = total_four_volume(\n",
        "                lamb=0, analysis_time=self.data[\"analysis_time\"]\n",
        "            )\n",
        "\n",
        "    def __call__(self, parameters):\n",
        "        mu, var = self.detection_efficiency(parameters)\n",
        "        n_effective = mu ** 2 / var\n",
        "        if n_effective < 4 * N_EVENTS:\n",
        "            return np.inf\n",
        "        vt_factor = mu / np.exp((3 + N_EVENTS) / 2 / n_effective)\n",
        "        return vt_factor\n",
        "\n",
        "    def detection_efficiency(self, parameters):\n",
        "        self.model.parameters.update(parameters)\n",
        "        weights = self.model.prob(self.data) / self.data[\"prior\"]\n",
        "        mu = float(np.sum(weights) / self.data[\"total_generated\"])\n",
        "        var = float(\n",
        "            np.sum(weights ** 2) / self.data[\"total_generated\"] ** 2\n",
        "            - mu ** 2 / self.data[\"total_generated\"]\n",
        "        )\n",
        "        return mu, var\n",
        "\n",
        "    def surveyed_hypervolume(self, parameters):\n",
        "        if self.redshift_model is None:\n",
        "            return self._surveyed_hypervolume\n",
        "        else:\n",
        "            return (\n",
        "                self.redshift_model.total_spacetime_volume(**parameters)\n",
        "                / 1e9\n",
        "                * self.data[\"analysis_time\"]\n",
        "            )\n",
        "\n",
        "\n",
        "def _load_pycbc_injection_data(vt_file, ifar_threshold=1, vt_name=\"N_exp/R(z=0)\"):\n",
        "    data = dd.io.load(vt_file)\n",
        "    found = (\n",
        "        (data[\"injections\"][\"ifar_pycbc_bbh\"] > ifar_threshold)\n",
        "        | (data[\"injections\"][\"ifar_pycbc_full\"] > ifar_threshold)\n",
        "        | (data[\"injections\"][\"ifar_gstlal\"] > ifar_threshold)\n",
        "    )\n",
        "    gwpop_data = dict(\n",
        "        mass_1=np.asarray(data[\"injections\"][\"mass1_source\"][found]),\n",
        "        mass_ratio=np.asarray(\n",
        "            data[\"injections\"][\"mass2_source\"][found]\n",
        "            / data[\"injections\"][\"mass1_source\"][found]\n",
        "        ),\n",
        "        redshift=np.asarray(data[\"injections\"][\"redshift\"][found]),\n",
        "        prior=np.asarray(data[\"injections\"][\"sampling_pdf\"][found]),\n",
        "        n_found=sum(found),\n",
        "        total_generated=data[\"total_generated\"],\n",
        "        analysis_time=data[\"analysis_time_s\"] / 365.25 / 24 / 60 / 60,\n",
        "    )\n",
        "    return gwpop_data\n",
        "\n",
        "\n",
        "def injection_resampling_vt(vt_file, model, ifar_threshold=1):\n",
        "    data = _load_pycbc_injection_data(vt_file=vt_file, ifar_threshold=ifar_threshold)\n",
        "    return ResamplingVT(model=model, data=data)\n",
        "\n",
        "\n",
        "def injection_resampling_vt_no_redshift(vt_file, model, ifar_threshold=1):\n",
        "    data = _load_pycbc_injection_data(vt_file=vt_file, ifar_threshold=ifar_threshold)\n",
        "    data[\"prior\"] = data[\"mass_1\"] ** (-2.35 + 1) * data[\"mass_ratio\"] ** 2\n",
        "    return ResamplingVT(model=model, data=data)\n",
        "\n",
        "\n",
        "def total_four_volume(lamb, analysis_time, max_redshift=2.3):\n",
        "    redshifts = np.linspace(0, max_redshift, 1000)\n",
        "    psi_of_z = (1 + redshifts) ** lamb\n",
        "    total_volume = (\n",
        "        np.trapz(\n",
        "            Planck15.differential_comoving_volume(redshifts).value\n",
        "            / (1 + redshifts)\n",
        "            * psi_of_z,\n",
        "            redshifts,\n",
        "        ) * 4 * np.pi / 1e9 * analysis_time\n",
        "    )\n",
        "    return total_volume\n",
        "\n",
        "def _load_model(model):\n",
        "    if \".\" in model:\n",
        "        split_model = model.split(\".\")\n",
        "        module = \".\".join(split_model[:-1])\n",
        "        function = split_model[-1]\n",
        "        _model = getattr(import_module(module), function)\n",
        "\n",
        "    else:\n",
        "        _model = MODEL_MAP[model]\n",
        "    if inspect.isclass(_model):\n",
        "        if \"redshift\" in model.lower():\n",
        "            kwargs = dict(z_max=2.3)\n",
        "        else:\n",
        "            kwargs = dict()\n",
        "        _model = _model(**kwargs)\n",
        "    return _model\n"
      ],
      "metadata": {
        "id": "PAXl8DFV5hDm"
      },
      "execution_count": 7,
      "outputs": []
    },
    {
      "cell_type": "code",
      "source": [
        "# sets models for mass (your model) and redshift (a model available in GWPopulation)\n",
        "\n",
        "MODEL_MAP = {\n",
        "    \"single_gaussian\": single_gaussian,\n",
        "}\n",
        "\n",
        "vt_models = [\"single_gaussian\", \"gwpopulation.models.redshift.PowerLawRedshift\"]\n",
        "vt_file = \"o1_o2_o3a_vt_data_aligned_low_spin.hdf5\"\n",
        "vt_model = Model([_load_model(model) for model in vt_models])\n",
        "selection = injection_resampling_vt(vt_file=vt_file, model=vt_model)\n",
        "\n",
        "models = Model([_load_model(model) for model in vt_models])"
      ],
      "metadata": {
        "id": "K4y9MgTdezff"
      },
      "execution_count": 8,
      "outputs": []
    },
    {
      "cell_type": "code",
      "source": [
        "# set up likelihood function\n",
        "\n",
        "likelihood = gwpopulation.hyperpe.HyperparameterLikelihood(\n",
        "        posteriors,\n",
        "        models,\n",
        "        conversion_function=gwpopulation.conversions.convert_to_beta_parameters,\n",
        "        selection_function=selection,\n",
        "    )\n",
        "\n",
        "likelihood.parameters.update(hyper_prior.sample())\n",
        "likelihood.log_likelihood_ratio()"
      ],
      "metadata": {
        "colab": {
          "base_uri": "https://localhost:8080/"
        },
        "id": "Ghhq45ykezkS",
        "outputId": "f0bc62e7-a02b-4496-ccdb-9453b69af458"
      },
      "execution_count": 9,
      "outputs": [
        {
          "output_type": "stream",
          "name": "stderr",
          "text": [
            "04:23 bilby WARNING : Cannot import cupy, falling back to numpy.\n"
          ]
        },
        {
          "output_type": "execute_result",
          "data": {
            "text/plain": [
              "-276.99106422765396"
            ]
          },
          "metadata": {},
          "execution_count": 9
        }
      ]
    },
    {
      "cell_type": "code",
      "source": [
        "# run sampler (fast settings)\n",
        "\n",
        "result = run_sampler(\n",
        "    likelihood=likelihood,\n",
        "    priors=hyper_prior,\n",
        "    label=\"test\",\n",
        "    sampler=\"dynesty\",\n",
        "    outdir=\".\",\n",
        "    nlive=100, walks=5\n",
        "    )"
      ],
      "metadata": {
        "colab": {
          "base_uri": "https://localhost:8080/",
          "height": 694,
          "referenced_widgets": [
            "d50350a9e15343ab82ab95de6df073fe",
            "2e919bdd4a3e432382257077c46b977c",
            "6d5b7accbaee44898e4f93fa2d1c943b",
            "d5c7ea1b822746398baec0829d810cfe",
            "3b53a3cd22c44654951136899b745465",
            "b92f67c9caf949cc86ea3909f636f2c9",
            "b6134ff6d75f4797850089e67f474983",
            "76e7200f3b424688992eb895a076873f",
            "efc96460d33b4510b20534abb58d9b9c",
            "162f686f30f5478a953b9b119b826e50",
            "3da0a0c2cb1f462ea9aef52a71a50d0b"
          ]
        },
        "id": "UfyCYmkDeiZZ",
        "outputId": "78c1b252-44f2-47aa-8a05-d7e0a51d10d0"
      },
      "execution_count": 10,
      "outputs": [
        {
          "output_type": "stream",
          "name": "stderr",
          "text": [
            "04:23 bilby INFO    : Running for label 'test', output will be saved to '.'\n",
            "04:23 bilby INFO    : Search parameters:\n",
            "04:23 bilby INFO    :   mu = Uniform(minimum=20, maximum=50, name='mu1', latex_label='$\\\\mu_{1}$', unit=None, boundary=None)\n",
            "04:23 bilby INFO    :   sig = Uniform(minimum=1, maximum=10, name='sig1', latex_label='$\\\\sigma_{1}$', unit=None, boundary=None)\n",
            "04:23 bilby INFO    :   mmin = 3\n",
            "04:23 bilby INFO    :   mmax = 100\n",
            "04:23 bilby INFO    :   lamb = 0\n",
            "04:23 bilby INFO    : Single likelihood evaluation took 2.804e-03 s\n"
          ]
        },
        {
          "output_type": "display_data",
          "data": {
            "text/plain": [
              "0it [00:00, ?it/s]"
            ],
            "application/vnd.jupyter.widget-view+json": {
              "version_major": 2,
              "version_minor": 0,
              "model_id": "d50350a9e15343ab82ab95de6df073fe"
            }
          },
          "metadata": {}
        },
        {
          "output_type": "stream",
          "name": "stderr",
          "text": [
            "04:23 bilby INFO    : Using sampler Dynesty with kwargs {'bound': 'multi', 'sample': 'rwalk', 'verbose': True, 'periodic': None, 'reflective': None, 'check_point_delta_t': 1800, 'nlive': 100, 'first_update': None, 'walks': 5, 'npdim': None, 'rstate': None, 'queue_size': 1, 'pool': None, 'use_pool': None, 'live_points': None, 'logl_args': None, 'logl_kwargs': None, 'ptform_args': None, 'ptform_kwargs': None, 'enlarge': 1.5, 'bootstrap': None, 'vol_dec': 0.5, 'vol_check': 8.0, 'facc': 0.2, 'slices': 5, 'update_interval': 60, 'print_func': <bound method Dynesty._print_func of <bilby.core.sampler.dynesty.Dynesty object at 0x7efcf91db2d0>>, 'dlogz': 0.1, 'maxiter': None, 'maxcall': None, 'logl_max': inf, 'add_live': True, 'print_progress': True, 'save_bounds': False, 'n_effective': None, 'maxmcmc': 5000, 'nact': 5, 'print_method': 'tqdm'}\n",
            "04:23 bilby INFO    : Checkpoint every check_point_delta_t = 600s\n",
            "04:23 bilby INFO    : Using dynesty version 1.0.1\n",
            "04:23 bilby INFO    : Using the bilby-implemented rwalk sample method with ACT estimated walks\n",
            "04:23 bilby INFO    : Resume file ./test_resume.pickle does not exist.\n",
            "04:23 bilby INFO    : Generating initial points from the prior\n",
            "04:24 bilby INFO    : Written checkpoint file ./test_resume.pickle\n",
            "/usr/local/lib/python3.7/dist-packages/dynesty/utils.py:171: DeprecationWarning: `np.int` is a deprecated alias for the builtin `int`. To silence this warning, use `int` by itself. Doing this will not modify any behavior and is safe. When replacing `np.int`, you may wish to use e.g. `np.int64` or `np.int32` to specify the precision. If you wish to review your current use, check the release note link for additional information.\n",
            "Deprecated in NumPy 1.20; for more details and guidance: https://numpy.org/devdocs/release/1.20.0-notes.html#deprecations\n",
            "  idx = np.zeros(nsamples, dtype=np.int)\n",
            "/usr/local/lib/python3.7/dist-packages/dynesty/utils.py:171: DeprecationWarning: `np.int` is a deprecated alias for the builtin `int`. To silence this warning, use `int` by itself. Doing this will not modify any behavior and is safe. When replacing `np.int`, you may wish to use e.g. `np.int64` or `np.int32` to specify the precision. If you wish to review your current use, check the release note link for additional information.\n",
            "Deprecated in NumPy 1.20; for more details and guidance: https://numpy.org/devdocs/release/1.20.0-notes.html#deprecations\n",
            "  idx = np.zeros(nsamples, dtype=np.int)\n",
            "/usr/local/lib/python3.7/dist-packages/dynesty/utils.py:171: DeprecationWarning: `np.int` is a deprecated alias for the builtin `int`. To silence this warning, use `int` by itself. Doing this will not modify any behavior and is safe. When replacing `np.int`, you may wish to use e.g. `np.int64` or `np.int32` to specify the precision. If you wish to review your current use, check the release note link for additional information.\n",
            "Deprecated in NumPy 1.20; for more details and guidance: https://numpy.org/devdocs/release/1.20.0-notes.html#deprecations\n",
            "  idx = np.zeros(nsamples, dtype=np.int)\n",
            "/usr/local/lib/python3.7/dist-packages/dynesty/utils.py:171: DeprecationWarning: `np.int` is a deprecated alias for the builtin `int`. To silence this warning, use `int` by itself. Doing this will not modify any behavior and is safe. When replacing `np.int`, you may wish to use e.g. `np.int64` or `np.int32` to specify the precision. If you wish to review your current use, check the release note link for additional information.\n",
            "Deprecated in NumPy 1.20; for more details and guidance: https://numpy.org/devdocs/release/1.20.0-notes.html#deprecations\n",
            "  idx = np.zeros(nsamples, dtype=np.int)\n",
            "04:24 bilby INFO    : Sampling time: 0:00:26.099105\n",
            "04:24 bilby INFO    : Summary of results:\n",
            "nsamples: 692\n",
            "ln_noise_evidence:    nan\n",
            "ln_evidence:    nan +/-  0.224\n",
            "ln_bayes_factor: -279.854 +/-  0.224\n",
            "\n"
          ]
        },
        {
          "output_type": "stream",
          "name": "stdout",
          "text": [
            "\n"
          ]
        }
      ]
    },
    {
      "cell_type": "code",
      "source": [
        "#plot results\n",
        "\n",
        "result.plot_corner()"
      ],
      "metadata": {
        "colab": {
          "base_uri": "https://localhost:8080/",
          "height": 660
        },
        "id": "sRqoA5QvKDgo",
        "outputId": "9668f4df-eb48-4327-ed52-29d98e474ce0"
      },
      "execution_count": 12,
      "outputs": [
        {
          "output_type": "stream",
          "name": "stderr",
          "text": [
            "/usr/local/lib/python3.7/dist-packages/yaml/constructor.py:126: DeprecationWarning: Using or importing the ABCs from 'collections' instead of from 'collections.abc' is deprecated since Python 3.3,and in 3.9 it will stop working\n",
            "  if not isinstance(key, collections.Hashable):\n",
            "/usr/local/lib/python3.7/dist-packages/dask/array/numpy_compat.py:21: DeprecationWarning: `np.float` is a deprecated alias for the builtin `float`. To silence this warning, use `float` by itself. Doing this will not modify any behavior and is safe. If you specifically wanted the numpy scalar type, use `np.float64` here.\n",
            "Deprecated in NumPy 1.20; for more details and guidance: https://numpy.org/devdocs/release/1.20.0-notes.html#deprecations\n",
            "  np.divide(0.4, 1, casting=\"unsafe\", dtype=np.float),\n",
            "/usr/lib/python3.7/importlib/_bootstrap.py:219: RuntimeWarning: numpy.ndarray size changed, may indicate binary incompatibility. Expected 16 from C header, got 88 from PyObject\n",
            "  return f(*args, **kwds)\n",
            "/usr/local/lib/python3.7/dist-packages/numba/core/types/__init__.py:108: DeprecationWarning: `np.long` is a deprecated alias for `np.compat.long`. To silence this warning, use `np.compat.long` by itself. In the likely event your code does not need to work on Python 2 you can use the builtin `int` for which `np.compat.long` is itself an alias. Doing this will not modify any behaviour and is safe. When replacing `np.long`, you may wish to use e.g. `np.int64` or `np.int32` to specify the precision. If you wish to review your current use, check the release note link for additional information.\n",
            "Deprecated in NumPy 1.20; for more details and guidance: https://numpy.org/devdocs/release/1.20.0-notes.html#deprecations\n",
            "  long_ = _make_signed(np.long)\n",
            "/usr/local/lib/python3.7/dist-packages/numba/core/types/__init__.py:109: DeprecationWarning: `np.long` is a deprecated alias for `np.compat.long`. To silence this warning, use `np.compat.long` by itself. In the likely event your code does not need to work on Python 2 you can use the builtin `int` for which `np.compat.long` is itself an alias. Doing this will not modify any behaviour and is safe. When replacing `np.long`, you may wish to use e.g. `np.int64` or `np.int32` to specify the precision. If you wish to review your current use, check the release note link for additional information.\n",
            "Deprecated in NumPy 1.20; for more details and guidance: https://numpy.org/devdocs/release/1.20.0-notes.html#deprecations\n",
            "  ulong = _make_unsigned(np.long)\n"
          ]
        },
        {
          "output_type": "execute_result",
          "data": {
            "text/plain": [
              "<Figure size 396x396 with 4 Axes>"
            ],
            "image/png": "[encoded data removed]"
          },
          "metadata": {},
          "execution_count": 12
        }
      ]
    },
    {
      "cell_type": "markdown",
      "source": [
        "## Challenge\n",
        "Can you create a model similar to the ones used in the LVK? Hint: feel free to use models in GWPopulation :)"
      ],
      "metadata": {
        "id": "YOSyKxyrKUE7"
      }
    }
  ]
}